{
 "cells": [
  {
   "cell_type": "code",
   "execution_count": 61,
   "metadata": {},
   "outputs": [],
   "source": [
    "import pandas\n",
    "\n",
    "location_file = '../data/locations.tsv'\n",
    "data_types = {\n",
    "    \"Location\":str, \n",
    "    \"Lat\":float, \n",
    "    \"Long\":float, \n",
    "    \"Years\":int, \n",
    "    \"Months\":int\n",
    "}\n",
    "locations = pandas.read_csv(location_file, sep='\\t', index_col=\"Location\", dtype=data_types)"
   ]
  },
  {
   "cell_type": "code",
   "execution_count": 62,
   "metadata": {},
   "outputs": [],
   "source": [
    "locations['TotalMonths'] = locations['Years']*12 + locations['Months']"
   ]
  },
  {
   "cell_type": "code",
   "execution_count": 63,
   "metadata": {},
   "outputs": [],
   "source": [
    "remove_outliers = True\n",
    "cutoff = 12\n",
    "if remove_outliers:\n",
    "    locations = locations[locations['TotalMonths'] > cutoff]"
   ]
  },
  {
   "cell_type": "code",
   "execution_count": 64,
   "metadata": {},
   "outputs": [],
   "source": [
    "total_months = locations['TotalMonths'].sum()"
   ]
  },
  {
   "cell_type": "code",
   "execution_count": 65,
   "metadata": {},
   "outputs": [],
   "source": [
    "locations['Weighted_Lat'] = locations.apply(lambda x: x['Lat']*x['TotalMonths']/total_months , axis=1)\n",
    "locations['Weighted_Long'] = locations.apply(lambda x: x['Long']*x['TotalMonths']/total_months , axis=1)"
   ]
  },
  {
   "cell_type": "code",
   "execution_count": 66,
   "metadata": {},
   "outputs": [
    {
     "name": "stdout",
     "output_type": "stream",
     "text": [
      "(37.05158333333333, -114.81720833333333)\n"
     ]
    }
   ],
   "source": [
    "avg_lat = locations['Weighted_Lat'].sum()\n",
    "avg_long = locations['Weighted_Long'].sum()\n",
    "avg_location = (avg_lat,avg_long)\n",
    "print(avg_location)"
   ]
  },
  {
   "cell_type": "code",
   "execution_count": 67,
   "metadata": {},
   "outputs": [
    {
     "name": "stdout",
     "output_type": "stream",
     "text": [
      "Populating the interactive namespace from numpy and matplotlib\n"
     ]
    }
   ],
   "source": [
    "%pylab inline\n",
    "import matplotlib.pyplot as plt"
   ]
  },
  {
   "cell_type": "code",
   "execution_count": 68,
   "metadata": {},
   "outputs": [
    {
     "data": {
      "image/png": "[encoded data removed]",
      "text/plain": [
       "<matplotlib.figure.Figure at 0x7f8a6a838eb8>"
      ]
     },
     "metadata": {},
     "output_type": "display_data"
    }
   ],
   "source": [
    "plt.scatter(locations['Long'],locations['Lat'], s = locations['TotalMonths'], c = 'black')\n",
    "plt.scatter(avg_long, avg_lat, s = total_months, c = 'red', marker = \"*\")\n",
    "plt.xlabel('Longitude')\n",
    "plt.ylabel('Latitude')\n",
    "plt.show()"
   ]
  },
  {
   "cell_type": "code",
   "execution_count": null,
   "metadata": {},
   "outputs": [],
   "source": []
  }
 ],
 "metadata": {
  "kernelspec": {
   "display_name": "Python 3",
   "language": "python",
   "name": "python3"
  },
  "language_info": {
   "codemirror_mode": {
    "name": "ipython",
    "version": 3
   },
   "file_extension": ".py",
   "mimetype": "text/x-python",
   "name": "python",
   "nbconvert_exporter": "python",
   "pygments_lexer": "ipython3",
   "version": "3.6.4"
  }
 },
 "nbformat": 4,
 "nbformat_minor": 2
}
